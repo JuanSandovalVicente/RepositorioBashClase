{
 "cells": [
  {
   "cell_type": "markdown",
   "metadata": {},
   "source": [
    "# Módulo pathlib"
   ]
  },
  {
   "cell_type": "markdown",
   "metadata": {},
   "source": [
    "El módulo pathlib en Python ofrece una forma orientada a objetos de interactuar con archivos y directorios,  \n",
    "haciendo que la manipulación de rutas sea más legible y concisa en comparación con el módulo os.path.  \n",
    "Fue introducido en Python 3.4 y es altamente recomendado para el manejo de rutas en código nuevo.  \n",
    "\n",
    "Conceptos clave:  \n",
    "\n",
    "Objetos Path: La clase principal del módulo es Path. Un objeto Path representa una ruta a un archivo o directorio.  \n",
    "Operadores /: Se pueden usar los operadores / para unir rutas de forma intuitiva, independientemente del sistema operativo.  \n",
    "Métodos expresivos: pathlib proporciona métodos con nombres descriptivos como is_file(), is_dir(), exists(), etc., que hacen que el código sea más legible.  "
   ]
  },
  {
   "cell_type": "markdown",
   "metadata": {},
   "source": [
    "1. Crear un objeto Path:"
   ]
  },
  {
   "cell_type": "code",
   "execution_count": 7,
   "metadata": {},
   "outputs": [
    {
     "name": "stdout",
     "output_type": "stream",
     "text": [
      "C:\\Users\\Usuario\\Documentos\\archivo.txt\n",
      "datos\\archivo.txt\n",
      "datos\\archivo.txt\n"
     ]
    }
   ],
   "source": [
    "from pathlib import Path\n",
    "\n",
    "ruta_absoluta = Path(r\"C:\\Users\\Usuario\\Documentos\\archivo.txt\")  # Usando raw string\n",
    "ruta_relativa = Path(\"datos\\\\archivo.txt\") # Usando raw string es opcional con rutas relativas\n",
    "ruta_con_barras = Path(\"datos/archivo.txt\") # pathlib convierte / a \\ en windows\n",
    "print(ruta_absoluta)\n",
    "print(ruta_relativa)\n",
    "print(ruta_con_barras)"
   ]
  },
  {
   "cell_type": "markdown",
   "metadata": {},
   "source": [
    "2. Unir rutas con /"
   ]
  },
  {
   "cell_type": "code",
   "execution_count": 8,
   "metadata": {},
   "outputs": [
    {
     "name": "stdout",
     "output_type": "stream",
     "text": [
      "C:\\Users\\Usuario\\Documentos\\archivo.txt\n",
      "C:\\Users\\Usuario\\Documentos\\subcarpeta\\archivo.txt\n",
      "datos\\archivo.txt\n"
     ]
    }
   ],
   "source": [
    "from pathlib import Path\n",
    "\n",
    "carpeta_padre = Path(r\"C:\\Users\\Usuario\\Documentos\")\n",
    "archivo = carpeta_padre / \"archivo.txt\"\n",
    "subcarpeta = carpeta_padre / \"subcarpeta\" / \"archivo.txt\"\n",
    "print(archivo)\n",
    "print(subcarpeta)\n",
    "\n",
    "carpeta_relativa = Path(\"datos\")\n",
    "archivo_relativo = carpeta_relativa / \"archivo.txt\"\n",
    "print(archivo_relativo)"
   ]
  },
  {
   "cell_type": "markdown",
   "metadata": {},
   "source": [
    "3. Obtener información de la ruta:"
   ]
  },
  {
   "cell_type": "code",
   "execution_count": 11,
   "metadata": {},
   "outputs": [
    {
     "name": "stdout",
     "output_type": "stream",
     "text": [
      "La variable ruta es de tipo: <class 'pathlib._local.WindowsPath'>\n",
      "C:\\Users\\Usuario\\Documentos\\archivo.txt\n",
      "archivo.txt\n",
      "archivo\n",
      ".txt\n",
      "C:\\Users\\Usuario\\Documentos\n",
      "C:\n"
     ]
    }
   ],
   "source": [
    "from pathlib import Path\n",
    "\n",
    "ruta = Path(r\"C:\\Users\\Usuario\\Documentos\\archivo.txt\")\n",
    "print(f\"La variable ruta es de tipo: {type(ruta)}\")\n",
    "print(ruta.absolute()) # Ruta absoluta\n",
    "print(ruta.name)       # Nombre del archivo: archivo.txt\n",
    "print(ruta.stem)       # Nombre del archivo sin extensión: archivo\n",
    "print(ruta.suffix)     # Extensión del archivo: .txt\n",
    "print(ruta.parent)     # Carpeta padre: C:\\Users\\Usuario\\Documentos\n",
    "print(ruta.drive)      # Unidad: C:"
   ]
  },
  {
   "cell_type": "markdown",
   "metadata": {},
   "source": [
    "4. Comprobar si un archivo o directorio existe:"
   ]
  },
  {
   "cell_type": "code",
   "execution_count": 18,
   "metadata": {},
   "outputs": [
    {
     "name": "stdout",
     "output_type": "stream",
     "text": [
      "El archivo existe\n",
      "La carpeta existe\n"
     ]
    }
   ],
   "source": [
    "from pathlib import Path\n",
    "\n",
    "ruta_archivo = Path(\"02_Operadores.ipynb\") # Crea este archivo antes de ejecutar el script\n",
    "ruta_carpeta = Path(\"funciones\") # Crea esta carpeta antes de ejecutar el script\n",
    "\n",
    "if ruta_archivo.exists():\n",
    "    print(\"El archivo existe\")\n",
    "\n",
    "if ruta_carpeta.exists():\n",
    "    print(\"La carpeta existe\")"
   ]
  },
  {
   "cell_type": "markdown",
   "metadata": {},
   "source": [
    "5. Comprobar si es un archivo o un directorio:"
   ]
  },
  {
   "cell_type": "code",
   "execution_count": 19,
   "metadata": {},
   "outputs": [
    {
     "name": "stdout",
     "output_type": "stream",
     "text": [
      "Es un archivo\n",
      "Es un directorio\n"
     ]
    }
   ],
   "source": [
    "from pathlib import Path\n",
    "\n",
    "ruta_archivo = Path(\"02_Operadores.ipynb\")\n",
    "ruta_carpeta = Path(\"funciones\")\n",
    "\n",
    "if ruta_archivo.is_file():\n",
    "    print(\"Es un archivo\")\n",
    "\n",
    "if ruta_carpeta.is_dir():\n",
    "    print(\"Es un directorio\")"
   ]
  },
  {
   "cell_type": "markdown",
   "metadata": {},
   "source": [
    "6. Crear directorios:"
   ]
  },
  {
   "cell_type": "code",
   "execution_count": 26,
   "metadata": {},
   "outputs": [
    {
     "name": "stdout",
     "output_type": "stream",
     "text": [
      "notebooks\\con\\varias\\subcarpetas\n"
     ]
    }
   ],
   "source": [
    "from pathlib import Path\n",
    "\n",
    "ruta_carpeta = Path(\"Carpeta_Path\")\n",
    "ruta_carpeta.mkdir(exist_ok=True) # Crea la carpeta, sin error si ya existe\n",
    "\n",
    "ruta_carpeta_padres = Path(\"notebooks/con/varias/subcarpetas\")\n",
    "print(ruta_carpeta_padres)\n",
    "ruta_carpeta_padres.mkdir(parents=True, exist_ok=True) # Crea carpetas padres si no existen y no lanza error si ya existe"
   ]
  },
  {
   "cell_type": "markdown",
   "metadata": {},
   "source": [
    "7. Leer y escribir archivos:"
   ]
  },
  {
   "cell_type": "code",
   "execution_count": 28,
   "metadata": {},
   "outputs": [
    {
     "name": "stdout",
     "output_type": "stream",
     "text": [
      "Este es el contenido del archivo.\n",
      "b'Datos binarios'\n"
     ]
    }
   ],
   "source": [
    "from pathlib import Path\n",
    "\n",
    "ruta_archivo = Path(\"archivo_de_prueba.txt\")\n",
    "ruta_archivo.write_text(\"Este es el contenido del archivo.\", encoding=\"utf-8\") # Se recomienda especificar encoding\n",
    "\n",
    "contenido = ruta_archivo.read_text(encoding=\"utf-8\") # Se recomienda especificar encoding\n",
    "print(contenido)\n",
    "\n",
    "ruta_archivo.write_bytes(b\"Datos binarios\") # Escribir datos binarios\n",
    "datos_binarios = ruta_archivo.read_bytes() # Leer datos binarios\n",
    "print(datos_binarios)"
   ]
  },
  {
   "cell_type": "markdown",
   "metadata": {},
   "source": [
    "8. Listar archivos en un directorio (con glob):"
   ]
  },
  {
   "cell_type": "code",
   "execution_count": 31,
   "metadata": {},
   "outputs": [
    {
     "name": "stdout",
     "output_type": "stream",
     "text": [
      "[WindowsPath('archivo_de_prueba.txt')]\n",
      "[WindowsPath('01_OperacionesAritmeticas.py'), WindowsPath('01_Saludo.py'), WindowsPath('funciones/ArchivoPython4_saludar.py')]\n",
      "[WindowsPath('funciones/ArchivoPython4_saludar.py')]\n"
     ]
    }
   ],
   "source": [
    "from pathlib import Path\n",
    "\n",
    "carpeta = Path(\".\") # directorio actual\n",
    "archivos_txt = list(carpeta.glob(\"*.txt\")) # Lista todos los archivos que terminan en .txt\n",
    "print(archivos_txt)\n",
    "\n",
    "archivos_python = list(carpeta.glob(\"**/*.py\")) # Busca recursivamente archivos .py en subdirectorios\n",
    "print(archivos_python)\n",
    "\n",
    "archivos_especificos = list(carpeta.glob(\"funciones/*.py\")) # archivos txt dentro de la carpeta datos\n",
    "print(archivos_especificos)"
   ]
  },
  {
   "cell_type": "markdown",
   "metadata": {},
   "source": [
    "9. Eliminar archivos y directorios:"
   ]
  },
  {
   "cell_type": "code",
   "execution_count": 33,
   "metadata": {},
   "outputs": [
    {
     "name": "stdout",
     "output_type": "stream",
     "text": [
      "Archivo eliminado\n"
     ]
    }
   ],
   "source": [
    "from pathlib import Path\n",
    "\n",
    "ruta_archivo = Path(\"archivo_a_eliminar.txt\")\n",
    "ruta_carpeta = Path(\"carpeta_a_eliminar\")\n",
    "\n",
    "if ruta_archivo.exists():\n",
    "    ruta_archivo.unlink() # Elimina el archivo\n",
    "    print(\"Archivo eliminado\")\n",
    "\n",
    "if ruta_carpeta.exists():\n",
    "    try:\n",
    "        ruta_carpeta.rmdir() # Elimina el directorio (debe estar vacío)\n",
    "        print(\"Directorio eliminado\")\n",
    "    except OSError as e:\n",
    "        print(f\"No se pudo eliminar el directorio: {e}\") # Captura la excepción si no esta vacio\n"
   ]
  }
 ],
 "metadata": {
  "kernelspec": {
   "display_name": ".venv",
   "language": "python",
   "name": "python3"
  },
  "language_info": {
   "codemirror_mode": {
    "name": "ipython",
    "version": 3
   },
   "file_extension": ".py",
   "mimetype": "text/x-python",
   "name": "python",
   "nbconvert_exporter": "python",
   "pygments_lexer": "ipython3",
   "version": "3.13.1"
  }
 },
 "nbformat": 4,
 "nbformat_minor": 2
}
