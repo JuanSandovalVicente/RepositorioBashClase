{
 "cells": [
  {
   "cell_type": "markdown",
   "metadata": {},
   "source": [
    "# Módulo os en Python:"
   ]
  },
  {
   "cell_type": "markdown",
   "metadata": {},
   "source": [
    "#### El módulo <span style=\"color: purple; font-weight: bold;\">OS</span> proporciona una forma de interactuar con el sistema operativo. Permite realizar tareas como manipular archivos y directorios, obtener información del sistema y ejecutar comandos del sistema."
   ]
  },
  {
   "cell_type": "markdown",
   "metadata": {},
   "source": [
    "1. os.getcwd(): Obtiene el directorio de trabajo actual."
   ]
  },
  {
   "cell_type": "code",
   "execution_count": 24,
   "metadata": {},
   "outputs": [
    {
     "name": "stdout",
     "output_type": "stream",
     "text": [
      "Directorio de trabajo actual: c:\\GIT_Python\\RepositorioBash\\notebooks\n"
     ]
    }
   ],
   "source": [
    "import os\n",
    "\n",
    "directorio_actual = os.getcwd()\n",
    "print(f\"Directorio de trabajo actual: {directorio_actual}\")\n",
    "##os.chdir(\"..\")"
   ]
  },
  {
   "cell_type": "markdown",
   "metadata": {},
   "source": [
    "2. os.chdir(path): Cambia el directorio de trabajo."
   ]
  },
  {
   "cell_type": "code",
   "execution_count": 25,
   "metadata": {},
   "outputs": [
    {
     "name": "stdout",
     "output_type": "stream",
     "text": [
      "Directorio cambiado a: c:\\GIT_Python\\RepositorioBash\\notebooks\\funciones\n",
      "Directorio cambiado a: c:\\GIT_Python\\RepositorioBash\\notebooks\n"
     ]
    }
   ],
   "source": [
    "import os\n",
    "\n",
    "#os.chdir(\"/ruta/a/un/directorio\")  # Ruta absoluta (ejemplo Linux/macOS)\n",
    "# o\n",
    "os.chdir(\"funciones\")  # Ruta relativa\n",
    "print(f\"Directorio cambiado a: {os.getcwd()}\")\n",
    "os.chdir(\"..\")\n",
    "print(f\"Directorio cambiado a: {os.getcwd()}\")"
   ]
  },
  {
   "cell_type": "markdown",
   "metadata": {},
   "source": [
    "3. os.listdir(path): Lista los archivos y directorios en la ruta especificada."
   ]
  },
  {
   "cell_type": "code",
   "execution_count": 26,
   "metadata": {},
   "outputs": [
    {
     "name": "stdout",
     "output_type": "stream",
     "text": [
      "Archivos en el directorio actual:\n",
      "01_Interprete_Python_Shell.ipynb\n",
      "01_OperacionesAritmeticas.py\n",
      "01_Saludo.py\n",
      "01_Variables_y_Tipos_Datos_Basicos.ipynb\n",
      "02_Operadores.ipynb\n",
      "03_Estructuras_de_Control.ipynb\n",
      "04_Estructura_Programa_Python_y_Funciones .ipynb\n",
      "05_Modulo_OS.ipynb\n",
      "ArchivoPython_1_Limpieza y Validación.ipynb\n",
      "ArchivoPython_2_Análisis Exploratorio.ipynb\n",
      "funciones\n",
      "grafico_seno.pdf\n",
      "grafico_seno.png\n",
      "UsoLibreriaMatplotlib.ipynb\n"
     ]
    }
   ],
   "source": [
    "import os\n",
    "\n",
    "archivos = os.listdir(\".\")  # Lista los archivos en el directorio actual\n",
    "print(\"Archivos en el directorio actual:\\n\" + \"\\n\".join(archivos))\n",
    "#for archivo in archivos:\n",
    "#    print(f\"Archivos en el directorio actual: {archivos}\")\n"
   ]
  },
  {
   "cell_type": "markdown",
   "metadata": {},
   "source": [
    "4. os.mkdir(path): Crea un nuevo directorio."
   ]
  },
  {
   "cell_type": "code",
   "execution_count": 27,
   "metadata": {},
   "outputs": [
    {
     "name": "stdout",
     "output_type": "stream",
     "text": [
      "Directorio creado.\n"
     ]
    }
   ],
   "source": [
    "import os\n",
    "\n",
    "os.mkdir(\"OS_CreaDirectorio\")\n",
    "print(\"Directorio creado.\")"
   ]
  },
  {
   "cell_type": "markdown",
   "metadata": {},
   "source": [
    "5. os.makedirs(path): Crea directorios recursivamente (crea directorios intermedios si no existen)."
   ]
  },
  {
   "cell_type": "code",
   "execution_count": 33,
   "metadata": {},
   "outputs": [
    {
     "name": "stdout",
     "output_type": "stream",
     "text": [
      "Directorios creados.\n"
     ]
    }
   ],
   "source": [
    "import os\n",
    "## Crea esta estructura de directorio \"OS_CreaDirectorio/con/subdirectorios\"\n",
    "os.makedirs(\"OS_CreaDirectorio/con/subdirectorios\")\n",
    "print(\"Directorios creados.\")"
   ]
  },
  {
   "cell_type": "markdown",
   "metadata": {},
   "source": [
    "6. os.rmdir(path): Elimina un directorio vacío."
   ]
  },
  {
   "cell_type": "code",
   "execution_count": 34,
   "metadata": {},
   "outputs": [
    {
     "name": "stdout",
     "output_type": "stream",
     "text": [
      "Directorio eliminado.\n"
     ]
    }
   ],
   "source": [
    "import os\n",
    "\n",
    "os.rmdir(\"OS_CreaDirectorio/con/subdirectorios\")\n",
    "print(\"Directorio eliminado.\")"
   ]
  },
  {
   "cell_type": "markdown",
   "metadata": {},
   "source": [
    "7. os.remove(path): Elimina un archivo."
   ]
  },
  {
   "cell_type": "code",
   "execution_count": 35,
   "metadata": {},
   "outputs": [
    {
     "name": "stdout",
     "output_type": "stream",
     "text": [
      "Archivo eliminado.\n"
     ]
    }
   ],
   "source": [
    "import os\n",
    "\n",
    "os.remove(\"borrar.py\")\n",
    "print(\"Archivo eliminado.\")"
   ]
  },
  {
   "cell_type": "markdown",
   "metadata": {},
   "source": [
    "8. os.path.exists(path): Comprueba si existe un archivo o directorio."
   ]
  },
  {
   "cell_type": "code",
   "execution_count": 36,
   "metadata": {},
   "outputs": [
    {
     "name": "stdout",
     "output_type": "stream",
     "text": [
      "El archivo no existe.\n"
     ]
    }
   ],
   "source": [
    "import os.path\n",
    "\n",
    "if os.path.exists(\"archivo.txt\"):\n",
    "    print(\"El archivo existe.\")\n",
    "else:\n",
    "    print(\"El archivo no existe.\")"
   ]
  },
  {
   "cell_type": "markdown",
   "metadata": {},
   "source": [
    "9. os.path.isfile(path): Comprueba si una ruta corresponde a un archivo."
   ]
  },
  {
   "cell_type": "code",
   "execution_count": 38,
   "metadata": {},
   "outputs": [
    {
     "name": "stdout",
     "output_type": "stream",
     "text": [
      "Es un archivo\n",
      "No es un archivo\n"
     ]
    }
   ],
   "source": [
    "import os.path\n",
    "\n",
    "if os.path.isfile(\"02_Operadores.ipynb\"):\n",
    "  print(\"Es un archivo\")\n",
    "else:\n",
    "  print(\"No es un archivo\")\n",
    "\n",
    "if os.path.isfile(\"funciones\"):\n",
    "  print(\"Es un archivo\")\n",
    "else:\n",
    "  print(\"No es un archivo\")"
   ]
  },
  {
   "cell_type": "markdown",
   "metadata": {},
   "source": [
    "10. os.path.isdir(path): Comprueba si una ruta corresponde a un directorio."
   ]
  },
  {
   "cell_type": "code",
   "execution_count": 39,
   "metadata": {},
   "outputs": [
    {
     "name": "stdout",
     "output_type": "stream",
     "text": [
      "Es un directorio\n"
     ]
    }
   ],
   "source": [
    "import os.path\n",
    "\n",
    "if os.path.isdir(\"funciones\"):\n",
    "  print(\"Es un directorio\")\n",
    "else:\n",
    "  print(\"No es un directorio\")"
   ]
  },
  {
   "cell_type": "markdown",
   "metadata": {},
   "source": [
    "11. os.path.join(path1, path2, ...): Une componentes de ruta de forma multiplataforma."
   ]
  },
  {
   "cell_type": "code",
   "execution_count": 40,
   "metadata": {},
   "outputs": [
    {
     "name": "stdout",
     "output_type": "stream",
     "text": [
      "carpeta1\\subcarpeta\\archivo.txt\n"
     ]
    }
   ],
   "source": [
    "import os.path\n",
    "\n",
    "ruta = os.path.join(\"carpeta1\", \"subcarpeta\", \"archivo.txt\")\n",
    "print(ruta)  # Genera la ruta correcta según el sistema operativo"
   ]
  }
 ],
 "metadata": {
  "kernelspec": {
   "display_name": ".venv",
   "language": "python",
   "name": "python3"
  },
  "language_info": {
   "codemirror_mode": {
    "name": "ipython",
    "version": 3
   },
   "file_extension": ".py",
   "mimetype": "text/x-python",
   "name": "python",
   "nbconvert_exporter": "python",
   "pygments_lexer": "ipython3",
   "version": "3.13.1"
  }
 },
 "nbformat": 4,
 "nbformat_minor": 2
}
