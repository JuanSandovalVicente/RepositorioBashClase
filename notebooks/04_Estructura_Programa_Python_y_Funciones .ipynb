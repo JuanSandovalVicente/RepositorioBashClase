{
    "cells": [
        {
            "cell_type": "markdown",
            "metadata": {},
            "source": [
                "Parte 2: Estructura de un Programa Python y Funciones  \n",
                "\n",
                "1. Organización del Código en Python :  \n",
                "    1.1 Indentación y su importancia en la sintaxis de Python.  \n",
                "    1.2 Comentarios y documentación del código. # Comentario en una sola linea o 3 comillas(\") varias lineas  \n",
                "    1.3 Concepto de módulos e importación (import).  \n",
                "2. Funciones :  \n",
                "    2.1 Definición y uso de funciones (def).  \n",
                "    2.2 Parámetros y argumentos.  \n",
                "    2.3 Retorno de valores (return).  \n",
                "    2.4 Ámbito de las variables (local y global).  \n",
                "    2.5 Ejemplos prácticos de creación y uso de funciones.  "
            ]
        },
        {
            "cell_type": "markdown",
            "metadata": {},
            "source": [
                "1.1 Indentación y su importancia en la sintaxis de Python.\n",
                "Si quitamos indentación al if o print saldra error"
            ]
        },
        {
            "cell_type": "code",
            "execution_count": null,
            "metadata": {},
            "outputs": [],
            "source": [
                "\n",
                "def saludo(nombre):\n",
                "    if nombre:  # Si el nombre no está vacío\n",
                "        print(\"Hola, \" + nombre + \"!\")\n",
                "    else:\n",
                "        print(\"Hola, invitado!\")\n",
                "\n",
                "saludo(\"Ana\")  # Imprime \"Hola, Ana!\"\n",
                "saludo(\"\")     # Imprime \"Hola, invitado!\""
            ]
        },
        {
            "cell_type": "markdown",
            "metadata": {},
            "source": [
                "1.2 Comentarios y documentación del código. # Comentario en una sola linea o 3 comillas(\")\n",
                "\n",
                "Comentarios de varias líneas (docstrings): Se delimitan con tres comillas simples (') o dobles (\"). \n",
                "            Se utilizan para documentar funciones, clases, módulos o el script en general."
            ]
        },
        {
            "cell_type": "code",
            "execution_count": 4,
            "metadata": {},
            "outputs": [],
            "source": [
                "# Este es un comentario de una línea.\n",
                "x = 10  # Asignamos el valor 10 a la variable x."
            ]
        },
        {
            "cell_type": "code",
            "execution_count": 6,
            "metadata": {},
            "outputs": [
                {
                    "name": "stdout",
                    "output_type": "stream",
                    "text": [
                        "Calcula el área de un círculo dado su radio.\n",
                        "\n",
                        "Args:\n",
                        "    radio: El radio del círculo (debe ser un número positivo).\n",
                        "\n",
                        "Returns:\n",
                        "    El área del círculo.\n",
                        "\n",
                        "Raises:\n",
                        "    TypeError: Si el radio no es un número.\n",
                        "    ValueError: Si el radio es negativo.\n",
                        "\n",
                        "12.56636\n"
                    ]
                }
            ],
            "source": [
                "def calcular_area_circulo(radio):\n",
                "    \"\"\"Calcula el área de un círculo dado su radio.\n",
                "\n",
                "    Args:\n",
                "        radio: El radio del círculo (debe ser un número positivo).\n",
                "\n",
                "    Returns:\n",
                "        El área del círculo.\n",
                "\n",
                "    Raises:\n",
                "        TypeError: Si el radio no es un número.\n",
                "        ValueError: Si el radio es negativo.\n",
                "    \"\"\"\n",
                "    if not isinstance(radio, (int, float)):\n",
                "        raise TypeError(\"El radio debe ser un número.\")\n",
                "    if radio < 0:\n",
                "        raise ValueError(\"El radio debe ser positivo.\")\n",
                "    return 3.14159 * radio ** 2\n",
                "\n",
                "print(calcular_area_circulo.__doc__) #imprime la documentacion de la funcion\n",
                "print(calcular_area_circulo(2))"
            ]
        },
        {
            "cell_type": "markdown",
            "metadata": {},
            "source": [
                "1.3 Concepto de módulos e importación (import)."
            ]
        },
        {
            "cell_type": "code",
            "execution_count": 13,
            "metadata": {},
            "outputs": [
                {
                    "name": "stdout",
                    "output_type": "stream",
                    "text": [
                        "Ruta actual: c:\\GIT_Python\\RepositorioBash\\notebooks\n",
                        "Ruta del modulo c:\\GIT_Python\\RepositorioBash\\notebooks\\funciones\n"
                    ]
                }
            ],
            "source": [
                "import sys\n",
                "import os\n",
                "\n",
                "# Obtener la ruta absoluta del directorio actual (donde está el notebook)\n",
                "ruta_actual = os.path.abspath('') # o os.getcwd()\n",
                "\n",
                "# Obtener la ruta absoluta de la carpeta 'scripts'\n",
                "#ruta_scripts = os.path.abspath(os.path.join(os.path.dirname(__file__), '..', 'scripts'))\n",
                "\n",
                "\n",
                "# Obtener la ruta absoluta de la carpeta 'modulos'\n",
                "ruta_modulos = os.path.join(ruta_actual, 'funciones')\n",
                "\n",
                "print(f\"Ruta actual: {ruta_actual}\")\n",
                "#print(f\"Ruta actual: {ruta_scripts}\")\n",
                "print(f\"Ruta del modulo {ruta_modulos}\")"
            ]
        },
        {
            "cell_type": "code",
            "execution_count": 2,
            "metadata": {},
            "outputs": [
                {
                    "name": "stdout",
                    "output_type": "stream",
                    "text": [
                        "Hola,   Carlos  desde mi_modulo!\n",
                        "Hola,   Maria  desde mi_modulo!\n",
                        "3.14159\n",
                        "Hola,   Pedro  desde mi_modulo!\n"
                    ]
                }
            ],
            "source": [
                "\n",
                "import funciones.ArchivoPython4_saludar #importa todo el modulo\n",
                "from funciones.ArchivoPython4_saludar import saludar #importa solo la funcion saludar\n",
                "from funciones.ArchivoPython4_saludar import PI #importa solo la constante PI\n",
                "from funciones.ArchivoPython4_saludar import * #importa todo el contenido del modulo (no recomendado)\n",
                "import funciones.ArchivoPython4_saludar as mm #importa el modulo con un alias\n",
                "\n",
                "funciones.ArchivoPython4_saludar.saludar(\"Carlos\") #utilizando la importacion por modulo\n",
                "saludar(\"Maria\") #utilizando la importacion por funcion\n",
                "print(PI) #utilizando la importacion por constante\n",
                "mm.saludar(\"Pedro\") #utilizando la importacion por alias"
            ]
        }
    ],
    "metadata": {
        "kernelspec": {
            "display_name": ".venv",
            "language": "python",
            "name": "python3"
        },
        "language_info": {
            "codemirror_mode": {
                "name": "ipython",
                "version": 3
            },
            "file_extension": ".py",
            "mimetype": "text/x-python",
            "name": "python",
            "nbconvert_exporter": "python",
            "pygments_lexer": "ipython3",
            "version": "3.13.1"
        }
    },
    "nbformat": 4,
    "nbformat_minor": 2
}
