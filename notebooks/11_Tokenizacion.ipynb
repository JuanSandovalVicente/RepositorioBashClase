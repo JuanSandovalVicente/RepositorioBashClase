{
 "cells": [
  {
   "cell_type": "markdown",
   "metadata": {},
   "source": [
    "# 1. Tokenización:\n",
    "\n",
    "La tokenización es el proceso de dividir un texto en unidades más pequeñas llamadas tokens.  \n",
    "Estos tokens pueden ser palabras, frases, símbolos o incluso caracteres individuales.  \n",
    "Es un paso fundamental en el preprocesamiento de texto para muchas tareas de PLN.   \n",
    "\n",
    "Ejemplo en Python con NLTK (Natural Language Toolkit):\n",
    "\n",
    "NLTK es una librería muy popular para PLN en Python."
   ]
  },
  {
   "cell_type": "code",
   "execution_count": null,
   "metadata": {},
   "outputs": [],
   "source": [
    "import nltk\n",
    "from nltk.tokenize import word_tokenize, sent_tokenize\n",
    "\n",
    "nltk.download('punkt')  # Descargar recursos necesarios para la tokenización\n",
    "\n",
    "texto = \"Este es un ejemplo. ¡Hola mundo! ¿Cómo estás?\"\n",
    "\n",
    "# Tokenización de palabras\n",
    "tokens_palabras = word_tokenize(texto) #divide el texto en palabras y signos de puntuación.\n",
    "print(\"Tokens de palabras:\", tokens_palabras)\n",
    "\n",
    "# Tokenización de oraciones\n",
    "tokens_oraciones = sent_tokenize(texto) # divide el texto en oraciones.\n",
    "print(\"Tokens de oraciones:\", tokens_oraciones)"
   ]
  },
  {
   "cell_type": "code",
   "execution_count": null,
   "metadata": {},
   "outputs": [],
   "source": [
    "import spacy\n",
    "\n",
    "nlp = spacy.load(\"es_core_news_sm\")  # Cargar modelo en español\n",
    "\n",
    "texto = \"Este es un ejemplo. ¡Hola mundo! ¿Cómo estás?\"\n",
    "doc = nlp(texto)\n",
    "\n",
    "# Tokenización\n",
    "tokens = [token.text for token in doc]\n",
    "print(\"Tokens con spaCy:\", tokens)"
   ]
  }
 ],
 "metadata": {
  "kernelspec": {
   "display_name": ".venv",
   "language": "python",
   "name": "python3"
  },
  "language_info": {
   "codemirror_mode": {
    "name": "ipython",
    "version": 3
   },
   "file_extension": ".py",
   "mimetype": "text/x-python",
   "name": "python",
   "nbconvert_exporter": "python",
   "pygments_lexer": "ipython3",
   "version": "3.13.1"
  }
 },
 "nbformat": 4,
 "nbformat_minor": 2
}
