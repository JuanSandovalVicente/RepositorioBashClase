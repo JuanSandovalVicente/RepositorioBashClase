{
 "cells": [
  {
   "cell_type": "markdown",
   "id": "81ff0ca1-2143-4a24-9564-8106b3e217a2",
   "metadata": {},
   "source": [
    "# Análisis Exploratorio"
   ]
  },
  {
   "cell_type": "code",
   "execution_count": 1,
   "id": "c05e7ac5-966f-4701-979b-b5bc52617bf6",
   "metadata": {},
   "outputs": [],
   "source": [
    "import pandas as pd"
   ]
  },
  {
   "cell_type": "code",
   "execution_count": 2,
   "id": "100372f5-4020-40c4-a6cc-88bd5061ae3f",
   "metadata": {},
   "outputs": [],
   "source": [
    "df=pd.read_table(\"../data/raw/Data_Fifa.txt\",sep=';')"
   ]
  },
  {
   "cell_type": "code",
   "execution_count": 4,
   "id": "f8ce4d98-1a36-459f-9b2c-7c7d30e62336",
   "metadata": {},
   "outputs": [
    {
     "data": {
      "text/plain": [
       "(17954, 11)"
      ]
     },
     "execution_count": 4,
     "metadata": {},
     "output_type": "execute_result"
    }
   ],
   "source": [
    "df.shape # dimensiones"
   ]
  },
  {
   "cell_type": "code",
   "execution_count": 5,
   "id": "630c8010-2935-4cb2-a716-80752af94257",
   "metadata": {},
   "outputs": [
    {
     "name": "stdout",
     "output_type": "stream",
     "text": [
      "<class 'pandas.core.frame.DataFrame'>\n",
      "RangeIndex: 17954 entries, 0 to 17953\n",
      "Data columns (total 11 columns):\n",
      " #   Column          Non-Null Count  Dtype  \n",
      "---  ------          --------------  -----  \n",
      " 0   name            17954 non-null  object \n",
      " 1   value_euro      17699 non-null  float64\n",
      " 2   wage_euro       17708 non-null  float64\n",
      " 3   height_cm       17954 non-null  float64\n",
      " 4   weight_kgs      17954 non-null  float64\n",
      " 5   age             17954 non-null  int64  \n",
      " 6   nationality     17954 non-null  object \n",
      " 7   overall_rating  17954 non-null  int64  \n",
      " 8   positions       17954 non-null  object \n",
      " 9   preferred_foot  17954 non-null  object \n",
      " 10  club_team       17940 non-null  object \n",
      "dtypes: float64(4), int64(2), object(5)\n",
      "memory usage: 1.5+ MB\n"
     ]
    }
   ],
   "source": [
    "df.info() # estructura"
   ]
  },
  {
   "cell_type": "markdown",
   "id": "a4b3adb6-1440-4f58-850e-bbc3b740c817",
   "metadata": {},
   "source": [
    "¿Cuántos registros tiene el dataframe?"
   ]
  },
  {
   "cell_type": "code",
   "execution_count": 6,
   "id": "de2e107b-b2a5-451c-83f0-728540dc0860",
   "metadata": {},
   "outputs": [
    {
     "data": {
      "text/plain": [
       "17954"
      ]
     },
     "execution_count": 6,
     "metadata": {},
     "output_type": "execute_result"
    }
   ],
   "source": [
    "len(df.index)"
   ]
  },
  {
   "cell_type": "markdown",
   "id": "db7edc33-1e2a-4298-92a1-ea149ed63a33",
   "metadata": {},
   "source": [
    "¿Cuántos columnas tiene el dataframe?"
   ]
  },
  {
   "cell_type": "code",
   "execution_count": 7,
   "id": "73f436e0-ebf6-4ae5-94ee-45b5c0274da0",
   "metadata": {},
   "outputs": [
    {
     "data": {
      "text/plain": [
       "11"
      ]
     },
     "execution_count": 7,
     "metadata": {},
     "output_type": "execute_result"
    }
   ],
   "source": [
    "len(df.columns)"
   ]
  },
  {
   "cell_type": "markdown",
   "id": "a3b9c7a9-039a-40b3-82c8-8bbab57c72f5",
   "metadata": {},
   "source": [
    "## Selección/Visualización de registros"
   ]
  },
  {
   "cell_type": "markdown",
   "id": "f6dab005-e5a0-44be-b543-1f80b4dea7f4",
   "metadata": {},
   "source": [
    "Visualización de los 5 primeros registros"
   ]
  },
  {
   "cell_type": "code",
   "execution_count": 8,
   "id": "30f8359b-4a3c-49ee-b9a7-59a26326cad9",
   "metadata": {},
   "outputs": [
    {
     "data": {
      "text/html": [
       "<div>\n",
       "<style scoped>\n",
       "    .dataframe tbody tr th:only-of-type {\n",
       "        vertical-align: middle;\n",
       "    }\n",
       "\n",
       "    .dataframe tbody tr th {\n",
       "        vertical-align: top;\n",
       "    }\n",
       "\n",
       "    .dataframe thead th {\n",
       "        text-align: right;\n",
       "    }\n",
       "</style>\n",
       "<table border=\"1\" class=\"dataframe\">\n",
       "  <thead>\n",
       "    <tr style=\"text-align: right;\">\n",
       "      <th></th>\n",
       "      <th>name</th>\n",
       "      <th>value_euro</th>\n",
       "      <th>wage_euro</th>\n",
       "      <th>height_cm</th>\n",
       "      <th>weight_kgs</th>\n",
       "      <th>age</th>\n",
       "      <th>nationality</th>\n",
       "      <th>overall_rating</th>\n",
       "      <th>positions</th>\n",
       "      <th>preferred_foot</th>\n",
       "      <th>club_team</th>\n",
       "    </tr>\n",
       "  </thead>\n",
       "  <tbody>\n",
       "    <tr>\n",
       "      <th>0</th>\n",
       "      <td>L. Messi</td>\n",
       "      <td>110500000.0</td>\n",
       "      <td>565000.0</td>\n",
       "      <td>170.18</td>\n",
       "      <td>72.1</td>\n",
       "      <td>31</td>\n",
       "      <td>Argentina</td>\n",
       "      <td>94</td>\n",
       "      <td>CF,RW,ST</td>\n",
       "      <td>Left</td>\n",
       "      <td>FC Barcelona</td>\n",
       "    </tr>\n",
       "    <tr>\n",
       "      <th>1</th>\n",
       "      <td>C. Eriksen</td>\n",
       "      <td>69500000.0</td>\n",
       "      <td>205000.0</td>\n",
       "      <td>154.94</td>\n",
       "      <td>76.2</td>\n",
       "      <td>27</td>\n",
       "      <td>Denmark</td>\n",
       "      <td>88</td>\n",
       "      <td>CAM,RM,CM</td>\n",
       "      <td>Right</td>\n",
       "      <td>Tottenham Hotspur</td>\n",
       "    </tr>\n",
       "    <tr>\n",
       "      <th>2</th>\n",
       "      <td>P. Pogba</td>\n",
       "      <td>73000000.0</td>\n",
       "      <td>255000.0</td>\n",
       "      <td>190.50</td>\n",
       "      <td>83.9</td>\n",
       "      <td>25</td>\n",
       "      <td>France</td>\n",
       "      <td>88</td>\n",
       "      <td>CM,CAM</td>\n",
       "      <td>Right</td>\n",
       "      <td>Manchester United</td>\n",
       "    </tr>\n",
       "    <tr>\n",
       "      <th>3</th>\n",
       "      <td>L. Insigne</td>\n",
       "      <td>62000000.0</td>\n",
       "      <td>165000.0</td>\n",
       "      <td>162.56</td>\n",
       "      <td>59.0</td>\n",
       "      <td>27</td>\n",
       "      <td>Italy</td>\n",
       "      <td>88</td>\n",
       "      <td>LW,ST</td>\n",
       "      <td>Right</td>\n",
       "      <td>Napoli</td>\n",
       "    </tr>\n",
       "    <tr>\n",
       "      <th>4</th>\n",
       "      <td>K. Koulibaly</td>\n",
       "      <td>60000000.0</td>\n",
       "      <td>135000.0</td>\n",
       "      <td>187.96</td>\n",
       "      <td>88.9</td>\n",
       "      <td>27</td>\n",
       "      <td>Senegal</td>\n",
       "      <td>88</td>\n",
       "      <td>CB</td>\n",
       "      <td>Right</td>\n",
       "      <td>Napoli</td>\n",
       "    </tr>\n",
       "  </tbody>\n",
       "</table>\n",
       "</div>"
      ],
      "text/plain": [
       "           name   value_euro  wage_euro  height_cm  weight_kgs  age  \\\n",
       "0      L. Messi  110500000.0   565000.0     170.18        72.1   31   \n",
       "1    C. Eriksen   69500000.0   205000.0     154.94        76.2   27   \n",
       "2      P. Pogba   73000000.0   255000.0     190.50        83.9   25   \n",
       "3    L. Insigne   62000000.0   165000.0     162.56        59.0   27   \n",
       "4  K. Koulibaly   60000000.0   135000.0     187.96        88.9   27   \n",
       "\n",
       "  nationality  overall_rating  positions preferred_foot          club_team  \n",
       "0   Argentina              94   CF,RW,ST           Left       FC Barcelona  \n",
       "1     Denmark              88  CAM,RM,CM          Right  Tottenham Hotspur  \n",
       "2      France              88     CM,CAM          Right  Manchester United  \n",
       "3       Italy              88      LW,ST          Right             Napoli  \n",
       "4     Senegal              88         CB          Right             Napoli  "
      ]
     },
     "execution_count": 8,
     "metadata": {},
     "output_type": "execute_result"
    }
   ],
   "source": [
    "df.head(5)"
   ]
  },
  {
   "cell_type": "markdown",
   "id": "5c600210-5b3d-40ec-a5a0-39c3d386bcde",
   "metadata": {},
   "source": [
    "Visualización de los 5 últimos registros"
   ]
  },
  {
   "cell_type": "code",
   "execution_count": 9,
   "id": "1e412726-82d8-4dad-bd01-334d9ac3ff94",
   "metadata": {},
   "outputs": [
    {
     "data": {
      "text/html": [
       "<div>\n",
       "<style scoped>\n",
       "    .dataframe tbody tr th:only-of-type {\n",
       "        vertical-align: middle;\n",
       "    }\n",
       "\n",
       "    .dataframe tbody tr th {\n",
       "        vertical-align: top;\n",
       "    }\n",
       "\n",
       "    .dataframe thead th {\n",
       "        text-align: right;\n",
       "    }\n",
       "</style>\n",
       "<table border=\"1\" class=\"dataframe\">\n",
       "  <thead>\n",
       "    <tr style=\"text-align: right;\">\n",
       "      <th></th>\n",
       "      <th>name</th>\n",
       "      <th>value_euro</th>\n",
       "      <th>wage_euro</th>\n",
       "      <th>height_cm</th>\n",
       "      <th>weight_kgs</th>\n",
       "      <th>age</th>\n",
       "      <th>nationality</th>\n",
       "      <th>overall_rating</th>\n",
       "      <th>positions</th>\n",
       "      <th>preferred_foot</th>\n",
       "      <th>club_team</th>\n",
       "    </tr>\n",
       "  </thead>\n",
       "  <tbody>\n",
       "    <tr>\n",
       "      <th>17949</th>\n",
       "      <td>R. McKenzie</td>\n",
       "      <td>975000.0</td>\n",
       "      <td>3000.0</td>\n",
       "      <td>175.26</td>\n",
       "      <td>74.8</td>\n",
       "      <td>25</td>\n",
       "      <td>Scotland</td>\n",
       "      <td>67</td>\n",
       "      <td>RM,CAM,CM</td>\n",
       "      <td>Right</td>\n",
       "      <td>Kilmarnock</td>\n",
       "    </tr>\n",
       "    <tr>\n",
       "      <th>17950</th>\n",
       "      <td>M. Sipľak</td>\n",
       "      <td>190000.0</td>\n",
       "      <td>1000.0</td>\n",
       "      <td>182.88</td>\n",
       "      <td>79.8</td>\n",
       "      <td>23</td>\n",
       "      <td>Slovakia</td>\n",
       "      <td>59</td>\n",
       "      <td>LB</td>\n",
       "      <td>Left</td>\n",
       "      <td>Cracovia</td>\n",
       "    </tr>\n",
       "    <tr>\n",
       "      <th>17951</th>\n",
       "      <td>J. Bekkema</td>\n",
       "      <td>170000.0</td>\n",
       "      <td>1000.0</td>\n",
       "      <td>185.42</td>\n",
       "      <td>89.8</td>\n",
       "      <td>22</td>\n",
       "      <td>Netherlands</td>\n",
       "      <td>59</td>\n",
       "      <td>GK</td>\n",
       "      <td>Right</td>\n",
       "      <td>SC Heerenveen</td>\n",
       "    </tr>\n",
       "    <tr>\n",
       "      <th>17952</th>\n",
       "      <td>A. Al Yami</td>\n",
       "      <td>280000.0</td>\n",
       "      <td>4000.0</td>\n",
       "      <td>175.26</td>\n",
       "      <td>64.9</td>\n",
       "      <td>21</td>\n",
       "      <td>Saudi Arabia</td>\n",
       "      <td>59</td>\n",
       "      <td>ST,LM</td>\n",
       "      <td>Right</td>\n",
       "      <td>Al Hilal</td>\n",
       "    </tr>\n",
       "    <tr>\n",
       "      <th>17953</th>\n",
       "      <td>Júnior Brumado</td>\n",
       "      <td>325000.0</td>\n",
       "      <td>2000.0</td>\n",
       "      <td>190.50</td>\n",
       "      <td>79.8</td>\n",
       "      <td>19</td>\n",
       "      <td>Brazil</td>\n",
       "      <td>59</td>\n",
       "      <td>ST</td>\n",
       "      <td>Right</td>\n",
       "      <td>FC Midtjylland</td>\n",
       "    </tr>\n",
       "  </tbody>\n",
       "</table>\n",
       "</div>"
      ],
      "text/plain": [
       "                 name  value_euro  wage_euro  height_cm  weight_kgs  age  \\\n",
       "17949     R. McKenzie    975000.0     3000.0     175.26        74.8   25   \n",
       "17950       M. Sipľak    190000.0     1000.0     182.88        79.8   23   \n",
       "17951      J. Bekkema    170000.0     1000.0     185.42        89.8   22   \n",
       "17952      A. Al Yami    280000.0     4000.0     175.26        64.9   21   \n",
       "17953  Júnior Brumado    325000.0     2000.0     190.50        79.8   19   \n",
       "\n",
       "        nationality  overall_rating  positions preferred_foot       club_team  \n",
       "17949      Scotland              67  RM,CAM,CM          Right      Kilmarnock  \n",
       "17950      Slovakia              59         LB           Left        Cracovia  \n",
       "17951   Netherlands              59         GK          Right   SC Heerenveen  \n",
       "17952  Saudi Arabia              59      ST,LM          Right        Al Hilal  \n",
       "17953        Brazil              59         ST          Right  FC Midtjylland  "
      ]
     },
     "execution_count": 9,
     "metadata": {},
     "output_type": "execute_result"
    }
   ],
   "source": [
    "df.tail()"
   ]
  },
  {
   "cell_type": "markdown",
   "id": "d006ffb6-adda-4073-b628-7b9527a5a68f",
   "metadata": {},
   "source": [
    "Visualización de los 5 registros al azar"
   ]
  },
  {
   "cell_type": "code",
   "execution_count": 10,
   "id": "92f049eb-ece6-49a4-8c0a-94f3ad3770c1",
   "metadata": {},
   "outputs": [
    {
     "data": {
      "text/html": [
       "<div>\n",
       "<style scoped>\n",
       "    .dataframe tbody tr th:only-of-type {\n",
       "        vertical-align: middle;\n",
       "    }\n",
       "\n",
       "    .dataframe tbody tr th {\n",
       "        vertical-align: top;\n",
       "    }\n",
       "\n",
       "    .dataframe thead th {\n",
       "        text-align: right;\n",
       "    }\n",
       "</style>\n",
       "<table border=\"1\" class=\"dataframe\">\n",
       "  <thead>\n",
       "    <tr style=\"text-align: right;\">\n",
       "      <th></th>\n",
       "      <th>name</th>\n",
       "      <th>value_euro</th>\n",
       "      <th>wage_euro</th>\n",
       "      <th>height_cm</th>\n",
       "      <th>weight_kgs</th>\n",
       "      <th>age</th>\n",
       "      <th>nationality</th>\n",
       "      <th>overall_rating</th>\n",
       "      <th>positions</th>\n",
       "      <th>preferred_foot</th>\n",
       "      <th>club_team</th>\n",
       "    </tr>\n",
       "  </thead>\n",
       "  <tbody>\n",
       "    <tr>\n",
       "      <th>5900</th>\n",
       "      <td>J. Talbot</td>\n",
       "      <td>90000.0</td>\n",
       "      <td>1000.0</td>\n",
       "      <td>182.88</td>\n",
       "      <td>79.8</td>\n",
       "      <td>21</td>\n",
       "      <td>Republic of Ireland</td>\n",
       "      <td>56</td>\n",
       "      <td>GK</td>\n",
       "      <td>Left</td>\n",
       "      <td>Bohemian FC</td>\n",
       "    </tr>\n",
       "    <tr>\n",
       "      <th>13441</th>\n",
       "      <td>D. Pineda</td>\n",
       "      <td>1400000.0</td>\n",
       "      <td>3000.0</td>\n",
       "      <td>152.40</td>\n",
       "      <td>66.2</td>\n",
       "      <td>23</td>\n",
       "      <td>El Salvador</td>\n",
       "      <td>69</td>\n",
       "      <td>LW,RW</td>\n",
       "      <td>Left</td>\n",
       "      <td>Santa Clara</td>\n",
       "    </tr>\n",
       "    <tr>\n",
       "      <th>13152</th>\n",
       "      <td>A. O'Connor</td>\n",
       "      <td>925000.0</td>\n",
       "      <td>5000.0</td>\n",
       "      <td>187.96</td>\n",
       "      <td>77.1</td>\n",
       "      <td>26</td>\n",
       "      <td>Republic of Ireland</td>\n",
       "      <td>68</td>\n",
       "      <td>CB,CDM</td>\n",
       "      <td>Right</td>\n",
       "      <td>Bradford City</td>\n",
       "    </tr>\n",
       "    <tr>\n",
       "      <th>14224</th>\n",
       "      <td>Jean Cléber</td>\n",
       "      <td>1800000.0</td>\n",
       "      <td>7000.0</td>\n",
       "      <td>154.94</td>\n",
       "      <td>79.8</td>\n",
       "      <td>28</td>\n",
       "      <td>Brazil</td>\n",
       "      <td>70</td>\n",
       "      <td>CM,CDM</td>\n",
       "      <td>Right</td>\n",
       "      <td>Clube Sport Marítimo</td>\n",
       "    </tr>\n",
       "    <tr>\n",
       "      <th>10283</th>\n",
       "      <td>Carlos Nieto</td>\n",
       "      <td>625000.0</td>\n",
       "      <td>2000.0</td>\n",
       "      <td>152.40</td>\n",
       "      <td>73.9</td>\n",
       "      <td>22</td>\n",
       "      <td>Spain</td>\n",
       "      <td>65</td>\n",
       "      <td>CB,LM,LB,LWB</td>\n",
       "      <td>Left</td>\n",
       "      <td>Real Zaragoza</td>\n",
       "    </tr>\n",
       "  </tbody>\n",
       "</table>\n",
       "</div>"
      ],
      "text/plain": [
       "               name  value_euro  wage_euro  height_cm  weight_kgs  age  \\\n",
       "5900      J. Talbot     90000.0     1000.0     182.88        79.8   21   \n",
       "13441     D. Pineda   1400000.0     3000.0     152.40        66.2   23   \n",
       "13152   A. O'Connor    925000.0     5000.0     187.96        77.1   26   \n",
       "14224   Jean Cléber   1800000.0     7000.0     154.94        79.8   28   \n",
       "10283  Carlos Nieto    625000.0     2000.0     152.40        73.9   22   \n",
       "\n",
       "               nationality  overall_rating     positions preferred_foot  \\\n",
       "5900   Republic of Ireland              56            GK           Left   \n",
       "13441          El Salvador              69         LW,RW           Left   \n",
       "13152  Republic of Ireland              68        CB,CDM          Right   \n",
       "14224               Brazil              70        CM,CDM          Right   \n",
       "10283                Spain              65  CB,LM,LB,LWB           Left   \n",
       "\n",
       "                  club_team  \n",
       "5900            Bohemian FC  \n",
       "13441           Santa Clara  \n",
       "13152         Bradford City  \n",
       "14224  Clube Sport Marítimo  \n",
       "10283         Real Zaragoza  "
      ]
     },
     "execution_count": 10,
     "metadata": {},
     "output_type": "execute_result"
    }
   ],
   "source": [
    "df.sample(5)"
   ]
  },
  {
   "cell_type": "markdown",
   "id": "240d05e0-887e-44d8-b7e3-94446adbb98f",
   "metadata": {},
   "source": [
    "- Numero de registros por Nacionalidades"
   ]
  },
  {
   "cell_type": "code",
   "execution_count": 11,
   "id": "40ff2cdf-3b9c-46e4-9f0d-aaabcfdcec28",
   "metadata": {},
   "outputs": [
    {
     "data": {
      "text/plain": [
       "nationality\n",
       "England                 1658\n",
       "Germany                 1199\n",
       "Spain                   1070\n",
       "France                   925\n",
       "Argentina                904\n",
       "                        ... \n",
       "Kuwait                     1\n",
       "New Caledonia              1\n",
       "Oman                       1\n",
       "São Tomé & Príncipe        1\n",
       "United Arab Emirates       1\n",
       "Name: count, Length: 160, dtype: int64"
      ]
     },
     "execution_count": 11,
     "metadata": {},
     "output_type": "execute_result"
    }
   ],
   "source": [
    "df['nationality'].value_counts()"
   ]
  },
  {
   "cell_type": "markdown",
   "id": "6b61e0d7-8729-4986-a11b-554b3088d9ea",
   "metadata": {},
   "source": [
    "- Top 5 Nacionalidades más frecuentes"
   ]
  },
  {
   "cell_type": "code",
   "execution_count": null,
   "id": "06149967-3229-4d44-83a2-421879b5dd98",
   "metadata": {},
   "outputs": [],
   "source": [
    "df['nationality'].value_counts()[0:5]"
   ]
  },
  {
   "cell_type": "markdown",
   "id": "d9c2a695-3859-448e-9e11-d984861173db",
   "metadata": {},
   "source": [
    "- Seleccionar las columnas name, age y preferred_foot"
   ]
  },
  {
   "cell_type": "code",
   "execution_count": null,
   "id": "456de1c9-be9c-484e-88be-7719615f020a",
   "metadata": {},
   "outputs": [],
   "source": [
    "df[[\"name\", \"age\", \"preferred_foot\",'club_team']]"
   ]
  },
  {
   "cell_type": "markdown",
   "id": "19067e2c-290e-49ff-aca6-c97a530dff55",
   "metadata": {},
   "source": [
    "## Estadísticas Descriptivas"
   ]
  },
  {
   "cell_type": "markdown",
   "id": "d0de707e-b46c-457d-990b-1229500a06b6",
   "metadata": {},
   "source": [
    "- Estadisticas descriptivas básicas del dataframe"
   ]
  },
  {
   "cell_type": "code",
   "execution_count": null,
   "id": "dd39d11b-bb82-4147-93c0-b675452d1414",
   "metadata": {},
   "outputs": [],
   "source": [
    "\"\"\"\n",
    "df.describe() devuelve un nuevo DataFrame que contiene las siguientes estadísticas para las columnas numéricas del DataFrame original df:\n",
    "\n",
    "count (conteo): El número de valores no nulos en cada columna.\n",
    "mean (media): El promedio aritmético de los valores.\n",
    "std (desviación estándar): Una medida de la dispersión de los valores alrededor de la media.\n",
    "min (mínimo): El valor mínimo en cada columna.\n",
    "25% (primer cuartil): El valor por debajo del cual se encuentra el 25% de los datos.\n",
    "50% (mediana o segundo cuartil): El valor central del conjunto de datos (el valor por debajo del cual se encuentra el 50% de los datos). También es el percentil 50.\n",
    "75% (tercer cuartil): El valor por debajo del cual se encuentra el 75% de los datos.\n",
    "max (máximo): El valor máximo en cada columna.\n",
    "\"\"\"\n",
    "df.describe()"
   ]
  },
  {
   "cell_type": "code",
   "execution_count": null,
   "id": "80c9458a-017a-45ab-aee9-010822ec9693",
   "metadata": {},
   "outputs": [],
   "source": [
    "# Para cada columna numerica seleccionada ('height_cm' y 'weight_kgs'), describe() calcula y muestra datos estadísticos\n",
    "df[['height_cm','weight_kgs']].describe()"
   ]
  },
  {
   "cell_type": "markdown",
   "id": "2eafa986-e874-4f6f-aa0f-86dd87805592",
   "metadata": {},
   "source": [
    "- Edad Promedio de los jugadores"
   ]
  },
  {
   "cell_type": "code",
   "execution_count": null,
   "id": "b1982088-1b31-4b5f-ba80-a8e2768ef439",
   "metadata": {},
   "outputs": [],
   "source": [
    "df['age'].mean()"
   ]
  },
  {
   "cell_type": "markdown",
   "id": "0ca66203-6de6-430a-81e6-f84a3ce999ac",
   "metadata": {},
   "source": [
    "- Edad más común de los jugadores"
   ]
  },
  {
   "cell_type": "code",
   "execution_count": null,
   "id": "7f572c1d-a7f5-4f31-9345-ab60e3a747b2",
   "metadata": {},
   "outputs": [],
   "source": [
    "df['age'].mode()"
   ]
  },
  {
   "cell_type": "markdown",
   "id": "152c8cbc-bf53-4ea1-81ab-534b3c2a5a2d",
   "metadata": {},
   "source": [
    "- Mediana de la Edad"
   ]
  },
  {
   "cell_type": "code",
   "execution_count": null,
   "id": "6c3774a0-efd5-4277-add3-2eb5cade514c",
   "metadata": {},
   "outputs": [],
   "source": [
    "df['age'].median()"
   ]
  },
  {
   "cell_type": "markdown",
   "id": "00e03e76-838f-4069-a6b2-c51e917a86bb",
   "metadata": {},
   "source": [
    "- Desviación Estandar"
   ]
  },
  {
   "cell_type": "code",
   "execution_count": null,
   "id": "35b29b2d-d9ff-40b7-b462-22d874c0fdf0",
   "metadata": {},
   "outputs": [],
   "source": [
    "df['wage_euro'].std()"
   ]
  },
  {
   "cell_type": "markdown",
   "id": "c96dc702-bf72-4d85-b87e-7f52814f7a32",
   "metadata": {},
   "source": [
    "- Mínimo"
   ]
  },
  {
   "cell_type": "code",
   "execution_count": null,
   "id": "0ed75063-f12f-4338-97e5-2a802be45eb3",
   "metadata": {},
   "outputs": [],
   "source": [
    "df['value_euro'].min()"
   ]
  },
  {
   "cell_type": "markdown",
   "id": "a5e9a5dd-acdb-4f81-95f5-94360a5f432f",
   "metadata": {},
   "source": [
    "- Máximo"
   ]
  },
  {
   "cell_type": "code",
   "execution_count": null,
   "id": "632aed7f-4ec4-478b-bc0e-428047445e2c",
   "metadata": {},
   "outputs": [],
   "source": [
    "df['overall_rating'].max()"
   ]
  },
  {
   "cell_type": "code",
   "execution_count": null,
   "id": "1c71faa9-af89-413a-a1d9-a84cb7dc3d9a",
   "metadata": {},
   "outputs": [],
   "source": [
    "df[['age','wage_euro']].head()"
   ]
  },
  {
   "cell_type": "markdown",
   "id": "306f4e9a-6bd3-4abb-8a84-7a9288c1fdab",
   "metadata": {},
   "source": [
    "- Suma acumulada\n",
    "\n",
    "La siguiente linea de codigo realiza:  \n",
    "- Selecciona la columna wage_euro del DataFrame df y la mantiene como un DataFrame.  \n",
    "- Calcula la suma acumulada de los valores en la columna wage_euro.  \n",
    "- Muestra las primeras 5 filas (por defecto) del DataFrame resultante con la suma acumulada.  "
   ]
  },
  {
   "cell_type": "code",
   "execution_count": null,
   "id": "394c552f-587f-486e-bfa1-ca8b24f1ca97",
   "metadata": {},
   "outputs": [],
   "source": [
    "df[['wage_euro']].cumsum().head()"
   ]
  },
  {
   "cell_type": "markdown",
   "id": "1ad2c2c8-14b6-4510-a917-cbe3ec611bd9",
   "metadata": {},
   "source": [
    "### Ordenamiento"
   ]
  },
  {
   "cell_type": "markdown",
   "id": "e457fe38-ed8b-4ed5-8a25-27e0c745c6eb",
   "metadata": {},
   "source": [
    "- Ordenar de manera ascendente"
   ]
  },
  {
   "cell_type": "code",
   "execution_count": null,
   "id": "61a3e75c-f3c6-4bd9-a82f-83fde87f0842",
   "metadata": {},
   "outputs": [],
   "source": [
    "df.sort_values(by=['name']).head()"
   ]
  },
  {
   "cell_type": "markdown",
   "id": "3cad4e94-1946-4712-9458-06c75a97796e",
   "metadata": {},
   "source": [
    "- Ordenar de manera descendente"
   ]
  },
  {
   "cell_type": "code",
   "execution_count": null,
   "id": "dda2633c-118c-48ef-a2a2-bedd2177dedf",
   "metadata": {},
   "outputs": [],
   "source": [
    "df.sort_values(by=['overall_rating'],ascending=False).head()"
   ]
  },
  {
   "cell_type": "markdown",
   "id": "812e9776-57fb-4787-8cce-81aa01538e0c",
   "metadata": {},
   "source": [
    "- Ordenar por age descendente y wage_euro ascendente\n",
    "\n",
    "    - Ordena el DataFrame df primero por la columna 'age' en orden descendente y luego por la columna 'wage_euro' en orden ascendente.  \n",
    "    - Muestra las primeras 5 filas del DataFrame ordenado."
   ]
  },
  {
   "cell_type": "code",
   "execution_count": 13,
   "id": "9b89b7bb-1670-4e79-b5c7-5ae31b73f5c0",
   "metadata": {},
   "outputs": [
    {
     "data": {
      "text/html": [
       "<div>\n",
       "<style scoped>\n",
       "    .dataframe tbody tr th:only-of-type {\n",
       "        vertical-align: middle;\n",
       "    }\n",
       "\n",
       "    .dataframe tbody tr th {\n",
       "        vertical-align: top;\n",
       "    }\n",
       "\n",
       "    .dataframe thead th {\n",
       "        text-align: right;\n",
       "    }\n",
       "</style>\n",
       "<table border=\"1\" class=\"dataframe\">\n",
       "  <thead>\n",
       "    <tr style=\"text-align: right;\">\n",
       "      <th></th>\n",
       "      <th>name</th>\n",
       "      <th>value_euro</th>\n",
       "      <th>wage_euro</th>\n",
       "      <th>height_cm</th>\n",
       "      <th>weight_kgs</th>\n",
       "      <th>age</th>\n",
       "      <th>nationality</th>\n",
       "      <th>overall_rating</th>\n",
       "      <th>positions</th>\n",
       "      <th>preferred_foot</th>\n",
       "      <th>club_team</th>\n",
       "    </tr>\n",
       "  </thead>\n",
       "  <tbody>\n",
       "    <tr>\n",
       "      <th>1304</th>\n",
       "      <td>O. Pérez</td>\n",
       "      <td>160000.0</td>\n",
       "      <td>8000.0</td>\n",
       "      <td>172.72</td>\n",
       "      <td>72.1</td>\n",
       "      <td>46</td>\n",
       "      <td>Mexico</td>\n",
       "      <td>71</td>\n",
       "      <td>GK</td>\n",
       "      <td>Right</td>\n",
       "      <td>Pachuca</td>\n",
       "    </tr>\n",
       "    <tr>\n",
       "      <th>4865</th>\n",
       "      <td>K. Pilkington</td>\n",
       "      <td>NaN</td>\n",
       "      <td>1000.0</td>\n",
       "      <td>187.96</td>\n",
       "      <td>86.2</td>\n",
       "      <td>45</td>\n",
       "      <td>England</td>\n",
       "      <td>48</td>\n",
       "      <td>GK</td>\n",
       "      <td>Right</td>\n",
       "      <td>Cambridge United</td>\n",
       "    </tr>\n",
       "    <tr>\n",
       "      <th>5226</th>\n",
       "      <td>T. Warner</td>\n",
       "      <td>NaN</td>\n",
       "      <td>1000.0</td>\n",
       "      <td>193.04</td>\n",
       "      <td>83.9</td>\n",
       "      <td>44</td>\n",
       "      <td>Trinidad &amp; Tobago</td>\n",
       "      <td>53</td>\n",
       "      <td>GK</td>\n",
       "      <td>Right</td>\n",
       "      <td>Accrington Stanley</td>\n",
       "    </tr>\n",
       "    <tr>\n",
       "      <th>13635</th>\n",
       "      <td>B. Nivet</td>\n",
       "      <td>NaN</td>\n",
       "      <td>3000.0</td>\n",
       "      <td>152.40</td>\n",
       "      <td>74.8</td>\n",
       "      <td>42</td>\n",
       "      <td>France</td>\n",
       "      <td>69</td>\n",
       "      <td>CAM,CM</td>\n",
       "      <td>Right</td>\n",
       "      <td>ESTAC Troyes</td>\n",
       "    </tr>\n",
       "    <tr>\n",
       "      <th>9950</th>\n",
       "      <td>H. Sulaimani</td>\n",
       "      <td>NaN</td>\n",
       "      <td>5000.0</td>\n",
       "      <td>172.72</td>\n",
       "      <td>69.9</td>\n",
       "      <td>42</td>\n",
       "      <td>Saudi Arabia</td>\n",
       "      <td>64</td>\n",
       "      <td>LB</td>\n",
       "      <td>Left</td>\n",
       "      <td>Al Ahli</td>\n",
       "    </tr>\n",
       "  </tbody>\n",
       "</table>\n",
       "</div>"
      ],
      "text/plain": [
       "                name  value_euro  wage_euro  height_cm  weight_kgs  age  \\\n",
       "1304        O. Pérez    160000.0     8000.0     172.72        72.1   46   \n",
       "4865   K. Pilkington         NaN     1000.0     187.96        86.2   45   \n",
       "5226       T. Warner         NaN     1000.0     193.04        83.9   44   \n",
       "13635       B. Nivet         NaN     3000.0     152.40        74.8   42   \n",
       "9950    H. Sulaimani         NaN     5000.0     172.72        69.9   42   \n",
       "\n",
       "             nationality  overall_rating positions preferred_foot  \\\n",
       "1304              Mexico              71        GK          Right   \n",
       "4865             England              48        GK          Right   \n",
       "5226   Trinidad & Tobago              53        GK          Right   \n",
       "13635             France              69    CAM,CM          Right   \n",
       "9950        Saudi Arabia              64        LB           Left   \n",
       "\n",
       "                club_team  \n",
       "1304              Pachuca  \n",
       "4865     Cambridge United  \n",
       "5226   Accrington Stanley  \n",
       "13635        ESTAC Troyes  \n",
       "9950              Al Ahli  "
      ]
     },
     "execution_count": 13,
     "metadata": {},
     "output_type": "execute_result"
    }
   ],
   "source": [
    "df.sort_values(by=['age','wage_euro'],ascending=[False,True]).head()"
   ]
  },
  {
   "cell_type": "markdown",
   "id": "97b68e34-04f0-47e9-a864-5bd94cd0c605",
   "metadata": {},
   "source": [
    "- Jugador más alto"
   ]
  },
  {
   "cell_type": "code",
   "execution_count": null,
   "id": "fffd5df5-0433-40c5-b114-3d824c517abc",
   "metadata": {},
   "outputs": [],
   "source": [
    "df.sort_values(by=['height_cm']).tail(1)"
   ]
  },
  {
   "cell_type": "markdown",
   "id": "d65437a8-0d3a-4065-804a-2e5d3fce0762",
   "metadata": {},
   "source": [
    "- Jugador más liviano"
   ]
  },
  {
   "cell_type": "code",
   "execution_count": null,
   "id": "e3fb0a81-bd3d-47f6-9114-cab480e582d6",
   "metadata": {},
   "outputs": [],
   "source": [
    "df.sort_values(by=['weight_kgs']).head(1)"
   ]
  },
  {
   "cell_type": "markdown",
   "id": "fe95cfe8-9dbe-4129-ab01-11deb3109518",
   "metadata": {},
   "source": [
    "### Filtros avanzados"
   ]
  },
  {
   "cell_type": "code",
   "execution_count": 14,
   "id": "d08497fa-0a55-490d-ae48-c8e5d6b486a0",
   "metadata": {},
   "outputs": [
    {
     "data": {
      "text/plain": [
       "nationality\n",
       "Haiti                10\n",
       "Madagascar           10\n",
       "Sierra Leone          9\n",
       "Armenia               9\n",
       "Kenya                 9\n",
       "Syria                 8\n",
       "Cyprus                8\n",
       "Lithuania             8\n",
       "Luxembourg            8\n",
       "Trinidad & Tobago     6\n",
       "Name: count, dtype: int64"
      ]
     },
     "execution_count": 14,
     "metadata": {},
     "output_type": "execute_result"
    }
   ],
   "source": [
    "df['nationality'].value_counts()[90:100]"
   ]
  },
  {
   "cell_type": "code",
   "execution_count": null,
   "id": "a26871ef-26f0-4c06-8a9b-af6679e43fac",
   "metadata": {},
   "outputs": [],
   "source": [
    "condicion1=df['nationality']=='Peru'\n",
    "df[condicion1].sort_values(by=['overall_rating'],ascending=False)\n",
    "condicion1"
   ]
  },
  {
   "cell_type": "code",
   "execution_count": null,
   "id": "11c1d2e9-0e3f-4935-8961-0d0cd795567e",
   "metadata": {},
   "outputs": [],
   "source": [
    "df[df['nationality']=='Peru'].sort_values(by=['overall_rating'],ascending=False)"
   ]
  },
  {
   "cell_type": "code",
   "execution_count": null,
   "id": "079bd9b8-8763-45af-86cc-b4619e9310d5",
   "metadata": {},
   "outputs": [],
   "source": [
    " df [ df['age']<=20 ]"
   ]
  },
  {
   "cell_type": "code",
   "execution_count": null,
   "id": "089d9beb-51a2-4cce-92d4-d9e4f42b0ac6",
   "metadata": {},
   "outputs": [],
   "source": [
    "df [(df['age']<=20) | (df['nationality']=='Brazil') ]"
   ]
  },
  {
   "cell_type": "markdown",
   "id": "e4b07886-c91f-4c90-ad1a-44245e20febb",
   "metadata": {},
   "source": [
    "- Jugadores Franceses con rating mayor a 85"
   ]
  },
  {
   "cell_type": "code",
   "execution_count": null,
   "id": "b437dcad-684a-4ec6-9a6d-29301a92e649",
   "metadata": {},
   "outputs": [],
   "source": [
    "df[(df['nationality']=='France') & (df['overall_rating']>85)]"
   ]
  },
  {
   "cell_type": "markdown",
   "id": "6d37b970-d990-46db-9f42-9e6fd9eb165a",
   "metadata": {},
   "source": [
    "- Jugadores Argentinos en Real Madrid"
   ]
  },
  {
   "cell_type": "code",
   "execution_count": null,
   "id": "63809967-9bd9-4396-aeaf-4ca002cf342f",
   "metadata": {},
   "outputs": [],
   "source": [
    "df[(df['nationality']=='Argentina') & (df['club_team']=='Real Madrid')]"
   ]
  },
  {
   "cell_type": "markdown",
   "id": "f9594c9a-4620-486e-ac79-7361b49b26eb",
   "metadata": {},
   "source": [
    "- Jugadores valorados en más de 50M que tienen entre 18 y 22 años"
   ]
  },
  {
   "cell_type": "code",
   "execution_count": null,
   "id": "92b2c7d8-f6f2-48a8-8ff7-61c42d5c33b4",
   "metadata": {},
   "outputs": [],
   "source": [
    "df[ (df['age']>=18) & (df['age']<=22) & (df['value_euro']>=50000000)]"
   ]
  },
  {
   "cell_type": "markdown",
   "id": "da1d63f7-7dcd-492a-8978-fabc30f6f544",
   "metadata": {},
   "source": [
    "- Jugadores de Chile o México"
   ]
  },
  {
   "cell_type": "code",
   "execution_count": null,
   "id": "4bb07e93-d33a-43e8-ba47-bc81018ab36c",
   "metadata": {},
   "outputs": [],
   "source": [
    "df [ (df['nationality']=='Chile') | (df['nationality']=='Mexico') ]"
   ]
  },
  {
   "cell_type": "markdown",
   "id": "d4164ec8-ecf8-4b0b-866d-e451a877f25b",
   "metadata": {},
   "source": [
    "## Agregaciones"
   ]
  },
  {
   "cell_type": "markdown",
   "id": "4ee476a1-0d05-497a-bca2-a5ae368bd4a1",
   "metadata": {},
   "source": [
    "- Estadisticas de la variable age, agrupado por la variable club_team"
   ]
  },
  {
   "cell_type": "code",
   "execution_count": null,
   "id": "ee998d0f-cef0-4a60-b962-8a0dd9857456",
   "metadata": {},
   "outputs": [],
   "source": [
    "import numpy as np"
   ]
  },
  {
   "cell_type": "code",
   "execution_count": null,
   "id": "321cb889-47d1-4210-8bc8-977d66ffd6fc",
   "metadata": {},
   "outputs": [],
   "source": [
    "df[['club_team','age']].groupby('club_team').aggregate(['min','median', 'max','std','count'])"
   ]
  },
  {
   "cell_type": "markdown",
   "id": "444c90a5-f59c-4f64-a3d4-1432c1bf8de0",
   "metadata": {},
   "source": [
    "- Estadísticas de varias variables, agrupado por la variable nationality"
   ]
  },
  {
   "cell_type": "code",
   "execution_count": 15,
   "id": "f5eec489-04fd-494f-8096-436b83e7a61a",
   "metadata": {},
   "outputs": [
    {
     "data": {
      "text/html": [
       "<div>\n",
       "<style scoped>\n",
       "    .dataframe tbody tr th:only-of-type {\n",
       "        vertical-align: middle;\n",
       "    }\n",
       "\n",
       "    .dataframe tbody tr th {\n",
       "        vertical-align: top;\n",
       "    }\n",
       "\n",
       "    .dataframe thead th {\n",
       "        text-align: right;\n",
       "    }\n",
       "</style>\n",
       "<table border=\"1\" class=\"dataframe\">\n",
       "  <thead>\n",
       "    <tr style=\"text-align: right;\">\n",
       "      <th></th>\n",
       "      <th>age</th>\n",
       "      <th>wage_euro</th>\n",
       "    </tr>\n",
       "    <tr>\n",
       "      <th>nationality</th>\n",
       "      <th></th>\n",
       "      <th></th>\n",
       "    </tr>\n",
       "  </thead>\n",
       "  <tbody>\n",
       "    <tr>\n",
       "      <th>Afghanistan</th>\n",
       "      <td>23.333333</td>\n",
       "      <td>2000.0</td>\n",
       "    </tr>\n",
       "    <tr>\n",
       "      <th>Albania</th>\n",
       "      <td>25.380952</td>\n",
       "      <td>54000.0</td>\n",
       "    </tr>\n",
       "    <tr>\n",
       "      <th>Algeria</th>\n",
       "      <td>27.883333</td>\n",
       "      <td>205000.0</td>\n",
       "    </tr>\n",
       "    <tr>\n",
       "      <th>Andorra</th>\n",
       "      <td>28.000000</td>\n",
       "      <td>1000.0</td>\n",
       "    </tr>\n",
       "    <tr>\n",
       "      <th>Angola</th>\n",
       "      <td>26.000000</td>\n",
       "      <td>44000.0</td>\n",
       "    </tr>\n",
       "    <tr>\n",
       "      <th>...</th>\n",
       "      <td>...</td>\n",
       "      <td>...</td>\n",
       "    </tr>\n",
       "    <tr>\n",
       "      <th>Vietnam</th>\n",
       "      <td>24.000000</td>\n",
       "      <td>1000.0</td>\n",
       "    </tr>\n",
       "    <tr>\n",
       "      <th>Wales</th>\n",
       "      <td>25.446154</td>\n",
       "      <td>355000.0</td>\n",
       "    </tr>\n",
       "    <tr>\n",
       "      <th>Yemen</th>\n",
       "      <td>25.000000</td>\n",
       "      <td>3000.0</td>\n",
       "    </tr>\n",
       "    <tr>\n",
       "      <th>Zambia</th>\n",
       "      <td>23.000000</td>\n",
       "      <td>9000.0</td>\n",
       "    </tr>\n",
       "    <tr>\n",
       "      <th>Zimbabwe</th>\n",
       "      <td>26.538462</td>\n",
       "      <td>27000.0</td>\n",
       "    </tr>\n",
       "  </tbody>\n",
       "</table>\n",
       "<p>160 rows × 2 columns</p>\n",
       "</div>"
      ],
      "text/plain": [
       "                   age  wage_euro\n",
       "nationality                      \n",
       "Afghanistan  23.333333     2000.0\n",
       "Albania      25.380952    54000.0\n",
       "Algeria      27.883333   205000.0\n",
       "Andorra      28.000000     1000.0\n",
       "Angola       26.000000    44000.0\n",
       "...                ...        ...\n",
       "Vietnam      24.000000     1000.0\n",
       "Wales        25.446154   355000.0\n",
       "Yemen        25.000000     3000.0\n",
       "Zambia       23.000000     9000.0\n",
       "Zimbabwe     26.538462    27000.0\n",
       "\n",
       "[160 rows x 2 columns]"
      ]
     },
     "execution_count": 15,
     "metadata": {},
     "output_type": "execute_result"
    }
   ],
   "source": [
    "df.groupby('nationality').aggregate({'age':'mean', 'wage_euro':'max'})"
   ]
  },
  {
   "cell_type": "code",
   "execution_count": null,
   "id": "57098dc9-bd4e-461b-b555-800a9eb13745",
   "metadata": {},
   "outputs": [],
   "source": []
  }
 ],
 "metadata": {
  "kernelspec": {
   "display_name": ".venv",
   "language": "python",
   "name": "python3"
  },
  "language_info": {
   "codemirror_mode": {
    "name": "ipython",
    "version": 3
   },
   "file_extension": ".py",
   "mimetype": "text/x-python",
   "name": "python",
   "nbconvert_exporter": "python",
   "pygments_lexer": "ipython3",
   "version": "3.13.1"
  }
 },
 "nbformat": 4,
 "nbformat_minor": 5
}
