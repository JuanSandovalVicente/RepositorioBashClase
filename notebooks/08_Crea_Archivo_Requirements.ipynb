{
 "cells": [
  {
   "cell_type": "markdown",
   "metadata": {},
   "source": [
    "Crear un archivo de requerimientos (requirements.txt) en Python es una práctica fundamental para la gestión de dependencias de un proyecto. Este archivo lista todas las bibliotecas (librerías) externas que tu proyecto necesita para funcionar correctamente. Esto facilita la reproducción del entorno de desarrollo en otras máquinas y asegura la portabilidad del proyecto.\n",
    "\n",
    "Aquí te presento las formas más comunes de crear un archivo requirements.txt:\n",
    "\n",
    "1. Usando pip freeze (Método más común y sencillo):\n",
    "\n",
    "Este método genera un listado de todos los paquetes instalados en tu entorno actual. Es el método más simple, pero tiene la desventaja de que puede incluir paquetes que no son directamente requeridos por tu proyecto, sino que son dependencias de otras librerías.\n",
    "\n",
    "Activa tu entorno virtual (recomendado): Si estás usando un entorno virtual (como venv o conda), actívalo primero. Esto asegura que solo se listen las dependencias de tu proyecto y no las del sistema.  \n",
    "\n",
    "venv: source venv/bin/activate (Linux/macOS) o venv\\Scripts\\activate (Windows)  \n",
    "conda: conda activate nombre_entorno  \n",
    "Ejecuta el comando: Abre una terminal o línea de comandos, navega al directorio raíz de tu proyecto y ejecuta:  \n",
    "\n",
    "Bash  \n",
    "  \n",
    "pip freeze > requirements.txt  \n",
    "Esto redirigirá la salida del comando pip freeze a un archivo llamado requirements.txt.  \n",
    "\n",
    "2. Instalación de las dependencias:\n",
    "\n",
    "Una vez que tienes el archivo requirements.txt, puedes usar pip para instalar todas las dependencias listadas en él. Abre una terminal o línea de comandos, navega al directorio que contiene el archivo requirements.txt y ejecuta el siguiente comando:\n",
    "\n",
    "pip install -r requirements.txt"
   ]
  }
 ],
 "metadata": {
  "language_info": {
   "name": "python"
  }
 },
 "nbformat": 4,
 "nbformat_minor": 2
}
