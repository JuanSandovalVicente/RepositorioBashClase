{
 "cells": [
  {
   "cell_type": "markdown",
   "metadata": {},
   "source": [
    "# 2. Operadores\n",
    "    #2.1 Operadores Aritméticos:\n",
    "    #2.2 Operadores de Comparación:\n",
    "    #2.3 Operadores Logicos"
   ]
  },
  {
   "cell_type": "code",
   "execution_count": 2,
   "metadata": {},
   "outputs": [],
   "source": [
    "#CONSTANTES de programa.\n",
    "ROJO = \"\\033[91m\"  # Código ANSI para texto rojo\n",
    "NEGRITA = \"\\033[1m\" # Código ANSI para negrita\n",
    "AZUL_CLARO = \"\\033[34m\" #Este texto es de color azul claro\"\n",
    "AZUL_OSCURO = \"\\033[94m\" #Este texto es de color azul oscuro\"\n",
    "AMARILLO = \"\\033[33m\" #Este texto es de color amarillo\"\n",
    "AMARILLO_OSCURO = \"\\033[93m\" #Este texto es de color amarillo oscuro\"\n",
    "VERDE = \"\\033[32m\" #Este texto es de color verde\"\n",
    "VERDE_OSCURO = \"\\033[92m\" #Este texto es de color verde oscuro\"\n",
    "\n",
    "CURSIVA = \"\\033[3m\" # Código ANSI para cursiva\n",
    "RESET = \"\\033[0m\"   # Código ANSI para resetear el formato"
   ]
  },
  {
   "cell_type": "markdown",
   "metadata": {
    "vscode": {
     "languageId": "plaintext"
    }
   },
   "source": [
    "\n",
    "#2.1 Operadores Aritméticos:\n",
    "\n",
    "* (suma) + \n",
    "* (resta) - \n",
    "* (multiplicación) *\n",
    "* (división) /\n",
    "* (división entera) //\n",
    "* % (módulo o resto) %\n",
    "* (exponenciación) **\n"
   ]
  },
  {
   "cell_type": "code",
   "execution_count": 4,
   "metadata": {},
   "outputs": [
    {
     "name": "stdout",
     "output_type": "stream",
     "text": [
      "usando f-string\n",
      "Operadores Aritméticos:\n",
      "\u001b[1mLa variable a = \u001b[0m \u001b[91m 10 \u001b[0m \u001b[1mla variable b = :\u001b[91m 3 \u001b[0m\n",
      "\u001b[1mLa suma = a + b: \u001b[91m13\u001b[0m\n",
      "La resta = a - b: 7\n",
      "La multiplicacion = a * b: 30\n",
      "La division = a / b: 3.3333333333333335\n",
      "La division_entera = a // b: 3\n",
      "El modulo = a % b: 1\n",
      "La potencia = a ** b: 1000\n"
     ]
    }
   ],
   "source": [
    "a = 10\n",
    "b = 3\n",
    "suma = a + b      # 13\n",
    "resta = a - b     # 7\n",
    "multiplicacion = a * b # 30\n",
    "division = a / b    # 3.333...\n",
    "division_entera = a // b # 3\n",
    "modulo = a % b      # 1\n",
    "potencia = a ** b    # 1000\n",
    "\n",
    "#\\033[1m: Es el código de escape ANSI para activar el modo de texto en negrita.\n",
    "#\\033[0m: Es el código de escape ANSI para restablecer el formato a normal (sin negrita). Es importante incluirlo para que el resto del texto no aparezca también en negrita.\n",
    "\n",
    "# usando f-string\n",
    "print(\"usando f-string\")\n",
    "print(f\"Operadores Aritméticos:\")\n",
    "print(f\"{NEGRITA}La variable a = {RESET} {ROJO} {a} {RESET} {NEGRITA}la variable b = :{ROJO} {b} {RESET}\")\n",
    "print(f\"{NEGRITA}La suma = a + b: {ROJO}{suma}{RESET}\")\n",
    "print(f\"La resta = a - b: {resta}\")\n",
    "print(f\"La multiplicacion = a * b: {multiplicacion}\")\n",
    "print(f\"La division = a / b: {division}\")\n",
    "print(f\"La division_entera = a // b: {division_entera}\")\n",
    "print(f\"El modulo = a % b: {modulo}\")\n",
    "print(f\"La potencia = a ** b: {potencia}\")"
   ]
  }
 ],
 "metadata": {
  "kernelspec": {
   "display_name": "Python 3",
   "language": "python",
   "name": "python3"
  },
  "language_info": {
   "codemirror_mode": {
    "name": "ipython",
    "version": 3
   },
   "file_extension": ".py",
   "mimetype": "text/x-python",
   "name": "python",
   "nbconvert_exporter": "python",
   "pygments_lexer": "ipython3",
   "version": "3.13.1"
  }
 },
 "nbformat": 4,
 "nbformat_minor": 2
}
