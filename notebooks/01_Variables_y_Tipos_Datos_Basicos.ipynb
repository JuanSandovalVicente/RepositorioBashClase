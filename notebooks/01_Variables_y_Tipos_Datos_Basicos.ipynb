{
 "cells": [
  {
   "cell_type": "markdown",
   "metadata": {},
   "source": [
    "# 1. Variables y Tipos de Datos Básicos\n",
    " Variables: En Python, las variables se crean al asignarles un valor. \n",
    "            No necesitas declarar el tipo de dato explícitamente."
   ]
  },
  {
   "cell_type": "code",
   "execution_count": 12,
   "metadata": {},
   "outputs": [
    {
     "name": "stdout",
     "output_type": "stream",
     "text": [
      "usando f-string\n",
      "La variable nombre es de tipo: <class 'str'>\n",
      "La variable edad es de tipo: <class 'int'>\n",
      "La variable altura es de tipo: <class 'float'>\n",
      "La variable es_estudiante es de tipo: <class 'bool'>\n",
      "\n",
      "Si solo necesitas el nombre del tipo como una cadena\n",
      "El tipo de nombre es: str\n",
      "El tipo de edad es: int\n",
      "El tipo de altura es: float\n",
      "El tipo de es_estudiante es: bool\n"
     ]
    },
    {
     "data": {
      "text/plain": [
       "'\\nEsta línea imprime el nombre del tipo de la variable nombre. \\nPor ejemplo, si nombre es una cadena, imprimirá \"str\"; \\nsi es un entero, imprimirá \"int\"; \\nsi es una instancia de una clase Persona, imprimirá \"Persona\".\\n'"
      ]
     },
     "execution_count": 12,
     "metadata": {},
     "output_type": "execute_result"
    }
   ],
   "source": [
    "# para comentarios de una sola línea usar signo (#)\n",
    "# Para comentarios de varias líneas usar 3 comillas dobles ( \" )\n",
    "\n",
    "nombre = \"Juan\"  # Cadena (string)\n",
    "edad = 40       # Entero (integer)\n",
    "altura = 1.75   # Flotante (float)\n",
    "es_estudiante = True  # Booleano (boolean)\n",
    "\n",
    "# usando f-string\n",
    "print(\"usando f-string\")\n",
    "print(f\"La variable nombre es de tipo: {type(nombre)}\")\n",
    "print(f\"La variable edad es de tipo: {type(edad)}\")\n",
    "print(f\"La variable altura es de tipo: {type(altura)}\")\n",
    "print(f\"La variable es_estudiante es de tipo: {type(es_estudiante)}\")\n",
    "\n",
    "print(\"\")\n",
    "# Si solo necesitas el nombre del tipo como una cadena\n",
    "print(\"Si solo necesitas el nombre del tipo como una cadena\")\n",
    "print(f\"El tipo de nombre es: {type(nombre).__name__}\")\n",
    "print(f\"El tipo de edad es: {type(edad).__name__}\")\n",
    "print(f\"El tipo de altura es: {type(altura).__name__}\")\n",
    "print(f\"El tipo de es_estudiante es: {type(es_estudiante).__name__}\")\n",
    "\n",
    "\"\"\"\n",
    "Esta línea imprime el nombre del tipo de la variable nombre. \n",
    "Por ejemplo, si nombre es una cadena, imprimirá \"str\"; \n",
    "si es un entero, imprimirá \"int\"; \n",
    "si es una instancia de una clase Persona, imprimirá \"Persona\".\n",
    "\"\"\"\n"
   ]
  },
  {
   "cell_type": "code",
   "execution_count": null,
   "metadata": {},
   "outputs": [],
   "source": []
  }
 ],
 "metadata": {
  "kernelspec": {
   "display_name": "Python 3",
   "language": "python",
   "name": "python3"
  },
  "language_info": {
   "codemirror_mode": {
    "name": "ipython",
    "version": 3
   },
   "file_extension": ".py",
   "mimetype": "text/x-python",
   "name": "python",
   "nbconvert_exporter": "python",
   "pygments_lexer": "ipython3",
   "version": "3.13.1"
  }
 },
 "nbformat": 4,
 "nbformat_minor": 2
}
